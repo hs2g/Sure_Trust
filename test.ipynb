{
 "cells": [
  {
   "cell_type": "markdown",
   "id": "b7672001",
   "metadata": {},
   "source": [
    "Question 1 (NumPy) – Titanic Dataset Survival Analysis \n",
    "1. Load the Titanic dataset using Pandas and convert the following numeric columns into a \n",
    "NumPy array: \n",
    "o age, fare, and survived. \n",
    "2. Using NumPy (not Pandas), perform the following: \n",
    "o a) Remove rows with missing values in any of the selected columns. \n",
    "o b) Normalize age and fare columns using Z-score normalization. \n",
    "o c) Compute the mean age and mean fare for: \n",
    "▪ passengers who survived \n",
    "▪ passengers who did not survive \n",
    "o d) Use np.where() to classify fare as: \n",
    "▪ \"Low\" if fare < mean, \n",
    "▪ \"High\" otherwise. "
   ]
  },
  {
   "cell_type": "code",
   "execution_count": 1,
   "id": "db546296",
   "metadata": {},
   "outputs": [],
   "source": [
    "import pandas as pd\n",
    "import numpy as np"
   ]
  }
 ],
 "metadata": {
  "kernelspec": {
   "display_name": "Python 3",
   "language": "python",
   "name": "python3"
  },
  "language_info": {
   "codemirror_mode": {
    "name": "ipython",
    "version": 3
   },
   "file_extension": ".py",
   "mimetype": "text/x-python",
   "name": "python",
   "nbconvert_exporter": "python",
   "pygments_lexer": "ipython3",
   "version": "3.13.1"
  }
 },
 "nbformat": 4,
 "nbformat_minor": 5
}
